{
  "nbformat": 4,
  "nbformat_minor": 0,
  "metadata": {
    "colab": {
      "name": "3D-CNN.ipynb",
      "version": "0.3.2",
      "provenance": [],
      "collapsed_sections": []
    },
    "kernelspec": {
      "name": "python3",
      "display_name": "Python 3"
    },
    "accelerator": "GPU"
  },
  "cells": [
    {
      "metadata": {
        "id": "Ud_4saIep7ZK",
        "colab_type": "code",
        "outputId": "030b5d99-6710-4dd2-9ecb-c23ad7f89089",
        "colab": {
          "base_uri": "https://localhost:8080/",
          "height": 34
        }
      },
      "cell_type": "code",
      "source": [
        "from keras.layers import Conv3D, MaxPool3D, Flatten, Dense\n",
        "from keras.layers import Dropout, Input, BatchNormalization\n",
        "from sklearn.metrics import confusion_matrix, accuracy_score\n",
        "from plotly.offline import iplot, init_notebook_mode\n",
        "from keras.losses import categorical_crossentropy\n",
        "from keras.optimizers import Adadelta\n",
        "import plotly.graph_objs as go\n",
        "from matplotlib.pyplot import cm\n",
        "import matplotlib.pyplot as plt\n",
        "from keras.models import Model\n",
        "import numpy as np\n",
        "import keras\n",
        "import h5py\n",
        "\n",
        "init_notebook_mode(connected=True)\n",
        "%matplotlib inline"
      ],
      "execution_count": 1,
      "outputs": [
        {
          "output_type": "stream",
          "text": [
            "Using TensorFlow backend.\n"
          ],
          "name": "stderr"
        },
        {
          "output_type": "display_data",
          "data": {
            "text/vnd.plotly.v1+html": "<script type=\"text/javascript\">window.PlotlyConfig = {MathJaxConfig: 'local'};</script><script type=\"text/javascript\">if (window.MathJax) {MathJax.Hub.Config({SVG: {font: \"STIX-Web\"}});}</script><script>requirejs.config({paths: { 'plotly': ['https://cdn.plot.ly/plotly-latest.min']},});if(!window._Plotly) {require(['plotly'],function(plotly) {window._Plotly=plotly;});}</script>",
            "text/html": [
              "<script type=\"text/javascript\">window.PlotlyConfig = {MathJaxConfig: 'local'};</script><script type=\"text/javascript\">if (window.MathJax) {MathJax.Hub.Config({SVG: {font: \"STIX-Web\"}});}</script><script>requirejs.config({paths: { 'plotly': ['https://cdn.plot.ly/plotly-latest.min']},});if(!window._Plotly) {require(['plotly'],function(plotly) {window._Plotly=plotly;});}</script>"
            ]
          },
          "metadata": {
            "tags": []
          }
        }
      ]
    },
    {
      "metadata": {
        "id": "Zi5cz-5Kwh6l",
        "colab_type": "code",
        "colab": {}
      },
      "cell_type": "code",
      "source": [
        "!pip install -U -q kaggle\n",
        "!mkdir -p ~/.kaggle"
      ],
      "execution_count": 0,
      "outputs": []
    },
    {
      "metadata": {
        "id": "OcL80QAPxRid",
        "colab_type": "code",
        "outputId": "4f7a7ece-898b-4893-ce6d-99cc88fd8aad",
        "colab": {
          "resources": {
            "http://localhost:8080/nbextensions/google.colab/files.js": {
              "data": "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",
              "ok": true,
              "headers": [
                [
                  "content-type",
                  "application/javascript"
                ]
              ],
              "status": 200,
              "status_text": "OK"
            }
          },
          "base_uri": "https://localhost:8080/",
          "height": 100
        }
      },
      "cell_type": "code",
      "source": [
        "from google.colab import files\n",
        "\n",
        "uploaded = files.upload()\n",
        "\n",
        "for fn in uploaded.keys():\n",
        "  print('User uploaded file \"{name}\" with length {length} bytes'.format(\n",
        "      name=fn, length=len(uploaded[fn])))"
      ],
      "execution_count": 4,
      "outputs": [
        {
          "output_type": "display_data",
          "data": {
            "text/html": [
              "\n",
              "     <input type=\"file\" id=\"files-507fbee5-ad28-40ff-8e7d-af007ce49042\" name=\"files[]\" multiple disabled />\n",
              "     <output id=\"result-507fbee5-ad28-40ff-8e7d-af007ce49042\">\n",
              "      Upload widget is only available when the cell has been executed in the\n",
              "      current browser session. Please rerun this cell to enable.\n",
              "      </output>\n",
              "      <script src=\"/nbextensions/google.colab/files.js\"></script> "
            ],
            "text/plain": [
              "<IPython.core.display.HTML object>"
            ]
          },
          "metadata": {
            "tags": []
          }
        },
        {
          "output_type": "stream",
          "text": [
            "Saving kaggle.json to kaggle.json\n",
            "User uploaded file \"kaggle.json\" with length 67 bytes\n"
          ],
          "name": "stdout"
        }
      ]
    },
    {
      "metadata": {
        "id": "iaZvPf2exXWW",
        "colab_type": "code",
        "colab": {}
      },
      "cell_type": "code",
      "source": [
        "!cp kaggle.json ~/.kaggle/"
      ],
      "execution_count": 0,
      "outputs": []
    },
    {
      "metadata": {
        "id": "L6zX2e9NLDwn",
        "colab_type": "code",
        "outputId": "dffec9ff-c396-442a-b3c1-d64114af9c57",
        "colab": {
          "base_uri": "https://localhost:8080/",
          "height": 86
        }
      },
      "cell_type": "code",
      "source": [
        "!kaggle datasets download -d daavoo/3d-mnist"
      ],
      "execution_count": 6,
      "outputs": [
        {
          "output_type": "stream",
          "text": [
            "Warning: Your Kaggle API key is readable by other users on this system! To fix this, you can run 'chmod 600 /root/.kaggle/kaggle.json'\n",
            "Downloading 3d-mnist.zip to /content\n",
            " 94% 145M/154M [00:01<00:00, 88.5MB/s]\n",
            "100% 154M/154M [00:01<00:00, 86.3MB/s]\n"
          ],
          "name": "stdout"
        }
      ]
    },
    {
      "metadata": {
        "id": "lFvJcs9MLG-c",
        "colab_type": "code",
        "outputId": "e45e0c57-6be5-49e3-a29d-d5faeddc14aa",
        "colab": {
          "base_uri": "https://localhost:8080/",
          "height": 34
        }
      },
      "cell_type": "code",
      "source": [
        "!ls"
      ],
      "execution_count": 7,
      "outputs": [
        {
          "output_type": "stream",
          "text": [
            "3d-mnist.zip  kaggle.json  sample_data\n"
          ],
          "name": "stdout"
        }
      ]
    },
    {
      "metadata": {
        "id": "xP-D0BXuLS1i",
        "colab_type": "code",
        "outputId": "b50542d5-8d6e-4d71-f1cb-74fd8f59f28a",
        "colab": {
          "base_uri": "https://localhost:8080/",
          "height": 121
        }
      },
      "cell_type": "code",
      "source": [
        "!unzip \"3d-mnist.zip\""
      ],
      "execution_count": 8,
      "outputs": [
        {
          "output_type": "stream",
          "text": [
            "Archive:  3d-mnist.zip\n",
            "  inflating: full_dataset_vectors.h5  \n",
            "  inflating: plot3D.py               \n",
            "  inflating: test_point_clouds.h5    \n",
            "  inflating: train_point_clouds.h5   \n",
            "  inflating: voxelgrid.py            \n"
          ],
          "name": "stdout"
        }
      ]
    },
    {
      "metadata": {
        "id": "VaA3McdEp0A9",
        "colab_type": "code",
        "outputId": "acc2ab7e-cdf1-44ff-e1c4-deb9a8d0434d",
        "colab": {
          "base_uri": "https://localhost:8080/",
          "height": 69
        }
      },
      "cell_type": "code",
      "source": [
        "!ls"
      ],
      "execution_count": 9,
      "outputs": [
        {
          "output_type": "stream",
          "text": [
            "3d-mnist.zip\t\t plot3D.py\t       train_point_clouds.h5\n",
            "full_dataset_vectors.h5  sample_data\t       voxelgrid.py\n",
            "kaggle.json\t\t test_point_clouds.h5\n"
          ],
          "name": "stdout"
        }
      ]
    },
    {
      "metadata": {
        "id": "PV1kwKEHM9E1",
        "colab_type": "code",
        "colab": {}
      },
      "cell_type": "code",
      "source": [
        "with h5py.File('full_dataset_vectors.h5', 'r') as dataset:\n",
        "    x_train = dataset[\"X_train\"][:]\n",
        "    x_test = dataset[\"X_test\"][:]\n",
        "    y_train = dataset[\"y_train\"][:]\n",
        "    y_test = dataset[\"y_test\"][:]"
      ],
      "execution_count": 0,
      "outputs": []
    },
    {
      "metadata": {
        "id": "0Sa7DayfqA3f",
        "colab_type": "code",
        "outputId": "043a27cc-7c31-445f-e3b9-1b03de879c4f",
        "colab": {
          "base_uri": "https://localhost:8080/",
          "height": 86
        }
      },
      "cell_type": "code",
      "source": [
        "print (\"x_train shape: \", x_train.shape)\n",
        "print (\"y_train shape: \", y_train.shape)\n",
        "\n",
        "print (\"x_test shape:  \", x_test.shape)\n",
        "print (\"y_test shape:  \", y_test.shape)"
      ],
      "execution_count": 11,
      "outputs": [
        {
          "output_type": "stream",
          "text": [
            "x_train shape:  (10000, 4096)\n",
            "y_train shape:  (10000,)\n",
            "x_test shape:   (2000, 4096)\n",
            "y_test shape:   (2000,)\n"
          ],
          "name": "stdout"
        }
      ]
    },
    {
      "metadata": {
        "id": "e34ndnGFqCRn",
        "colab_type": "code",
        "colab": {}
      },
      "cell_type": "code",
      "source": [
        "## Introduce the channel dimention in the input dataset \n",
        "xtrain = np.ndarray((x_train.shape[0], 4096, 3))\n",
        "xtest = np.ndarray((x_test.shape[0], 4096, 3))\n",
        "\n",
        "## iterate in train and test, add the rgb dimention \n",
        "def add_rgb_dimention(array):\n",
        "    scaler_map = cm.ScalarMappable(cmap=\"Oranges\")\n",
        "    array = scaler_map.to_rgba(array)[:, : -1]\n",
        "    return array\n",
        "  \n",
        "for i in range(x_train.shape[0]):\n",
        "    xtrain[i] = add_rgb_dimention(x_train[i])\n",
        "    \n",
        "for i in range(x_test.shape[0]):\n",
        "    xtest[i] = add_rgb_dimention(x_test[i])\n",
        "\n",
        "## convert to 1 + 4D space (1st argument represents number of rows in the dataset)\n",
        "xtrain = xtrain.reshape(x_train.shape[0], 16, 16, 16, 3)\n",
        "xtest = xtest.reshape(x_test.shape[0], 16, 16, 16, 3)\n",
        "\n",
        "## convert target variable into one-hot\n",
        "y_train = keras.utils.to_categorical(y_train, 10)\n",
        "y_test = keras.utils.to_categorical(y_test, 10)"
      ],
      "execution_count": 0,
      "outputs": []
    },
    {
      "metadata": {
        "id": "AhovKTdrqCv5",
        "colab_type": "code",
        "outputId": "c760e7aa-0582-4991-a110-9028ad658a0d",
        "colab": {
          "base_uri": "https://localhost:8080/",
          "height": 34
        }
      },
      "cell_type": "code",
      "source": [
        "xtrain.shape, y_train.shape, xtest.shape, y_test.shape"
      ],
      "execution_count": 14,
      "outputs": [
        {
          "output_type": "execute_result",
          "data": {
            "text/plain": [
              "((10000, 16, 16, 16, 3), (10000, 10), (2000, 16, 16, 16, 3), (2000, 10))"
            ]
          },
          "metadata": {
            "tags": []
          },
          "execution_count": 14
        }
      ]
    },
    {
      "metadata": {
        "id": "mUZnXcpDuFr7",
        "colab_type": "code",
        "colab": {
          "base_uri": "https://localhost:8080/",
          "height": 34
        },
        "outputId": "7e4c31b6-0ec5-4ed7-a728-3dc1666e19c1"
      },
      "cell_type": "code",
      "source": [
        "img_3d = xtrain[0][:,:,:,1]\n",
        "img_3d.shape"
      ],
      "execution_count": 17,
      "outputs": [
        {
          "output_type": "execute_result",
          "data": {
            "text/plain": [
              "(16, 16, 16)"
            ]
          },
          "metadata": {
            "tags": []
          },
          "execution_count": 17
        }
      ]
    },
    {
      "metadata": {
        "id": "aWMSxuaCuF0T",
        "colab_type": "code",
        "outputId": "4d46d132-1566-46e6-82af-89b8fdaf11c9",
        "colab": {
          "base_uri": "https://localhost:8080/",
          "height": 282
        }
      },
      "cell_type": "code",
      "source": [
        "plt.grid(False)\n",
        "plt.imshow(img_3d[:,:,10])"
      ],
      "execution_count": 16,
      "outputs": [
        {
          "output_type": "execute_result",
          "data": {
            "text/plain": [
              "<matplotlib.image.AxesImage at 0x7fd6be2e0978>"
            ]
          },
          "metadata": {
            "tags": []
          },
          "execution_count": 16
        },
        {
          "output_type": "display_data",
          "data": {
            "image/png": "[encoded data removed]",
            "text/plain": [
              "<Figure size 432x288 with 1 Axes>"
            ]
          },
          "metadata": {
            "tags": []
          }
        }
      ]
    },
    {
      "metadata": {
        "id": "1C3l4DwIEz7T",
        "colab_type": "code",
        "colab": {
          "base_uri": "https://localhost:8080/",
          "height": 34
        },
        "outputId": "2ee056ee-f6a9-41b8-fa66-679894a7576a"
      },
      "cell_type": "code",
      "source": [
        "x_train_gray = []\n",
        "x_test_gray = []\n",
        "\n",
        "for img in xtrain:\n",
        "  x_train_gray.append(img[:,:,:,1])\n",
        "  \n",
        "for img in xtest:\n",
        "  x_test_gray.append(img[:,:,:,1])\n",
        "  \n",
        "\n",
        "x_train_gray = np.array(x_train_gray)\n",
        "x_test_gray = np.array(x_test_gray)\n",
        "\n",
        "x_train_gray.shape, x_test_gray.shape"
      ],
      "execution_count": 19,
      "outputs": [
        {
          "output_type": "execute_result",
          "data": {
            "text/plain": [
              "((10000, 16, 16, 16), (2000, 16, 16, 16))"
            ]
          },
          "metadata": {
            "tags": []
          },
          "execution_count": 19
        }
      ]
    },
    {
      "metadata": {
        "id": "QF50qU_0E0C1",
        "colab_type": "code",
        "colab": {
          "base_uri": "https://localhost:8080/",
          "height": 282
        },
        "outputId": "69ad4f0a-3aa8-48ce-9fa2-4abfb13419cf"
      },
      "cell_type": "code",
      "source": [
        "plt.imshow(x_train_gray[0][:,:,10])"
      ],
      "execution_count": 21,
      "outputs": [
        {
          "output_type": "execute_result",
          "data": {
            "text/plain": [
              "<matplotlib.image.AxesImage at 0x7fd6bbfdd198>"
            ]
          },
          "metadata": {
            "tags": []
          },
          "execution_count": 21
        },
        {
          "output_type": "display_data",
          "data": {
            "image/png": "[encoded data removed]",
            "text/plain": [
              "<Figure size 432x288 with 1 Axes>"
            ]
          },
          "metadata": {
            "tags": []
          }
        }
      ]
    },
    {
      "metadata": {
        "id": "aW3U44iLE0Mf",
        "colab_type": "code",
        "colab": {
          "base_uri": "https://localhost:8080/",
          "height": 34
        },
        "outputId": "bd2cb546-9008-4ded-d120-93f768359ba0"
      },
      "cell_type": "code",
      "source": [
        "x_train_gray.shape, y_train.shape, x_test_gray.shape, y_test.shape"
      ],
      "execution_count": 22,
      "outputs": [
        {
          "output_type": "execute_result",
          "data": {
            "text/plain": [
              "((10000, 16, 16, 16), (10000, 10), (2000, 16, 16, 16), (2000, 10))"
            ]
          },
          "metadata": {
            "tags": []
          },
          "execution_count": 22
        }
      ]
    },
    {
      "metadata": {
        "id": "0UJeCPDtNIy8",
        "colab_type": "text"
      },
      "cell_type": "markdown",
      "source": [
        "Expand training set dimensions to match with input shape of netwwork"
      ]
    },
    {
      "metadata": {
        "id": "hfi8Y1E_IKVy",
        "colab_type": "code",
        "colab": {
          "base_uri": "https://localhost:8080/",
          "height": 34
        },
        "outputId": "b3c72a15-9e83-48a8-cc7c-6e9da80fff1c"
      },
      "cell_type": "code",
      "source": [
        "x_train_5d = np.expand_dims(x_train_gray, axis=4)\n",
        "x_test_5d = np.expand_dims(x_test_gray, axis=4)\n",
        "\n",
        "\n",
        "x_train_5d.shape, x_test_5d.shape"
      ],
      "execution_count": 33,
      "outputs": [
        {
          "output_type": "execute_result",
          "data": {
            "text/plain": [
              "((10000, 16, 16, 16, 1), (2000, 16, 16, 16, 1))"
            ]
          },
          "metadata": {
            "tags": []
          },
          "execution_count": 33
        }
      ]
    },
    {
      "metadata": {
        "id": "kfvRPCimsc1G",
        "colab_type": "text"
      },
      "cell_type": "markdown",
      "source": [
        "https://medium.com/shashwats-blog/3d-mnist-b922a3d07334\n",
        "\n",
        "https://gist.github.com/imshashwataggarwal/89e78280267bfd6bf195707ff9b47d93#file-3d_cnn-py"
      ]
    },
    {
      "metadata": {
        "id": "jLeSVFRqqCzv",
        "colab_type": "code",
        "outputId": "a232f61d-2139-460f-92b3-3dd5b0c96a55",
        "colab": {
          "base_uri": "https://localhost:8080/",
          "height": 625
        }
      },
      "cell_type": "code",
      "source": [
        "def m1():\n",
        "  \n",
        "  '''Architecture for 3D MNIST with shape 4D(w,h,b and color channel of 3)'''\n",
        "  \n",
        "  \n",
        "  ## input layer\n",
        "  input_layer = Input((16, 16, 16, 3))\n",
        "\n",
        "  ## convolutional layers\n",
        "  conv_layer1 = Conv3D(filters=8, kernel_size=(3, 3, 3), activation='relu')(input_layer)\n",
        "  conv_layer2 = Conv3D(filters=16, kernel_size=(3, 3, 3), activation='relu')(conv_layer1)\n",
        "\n",
        "  ## add max pooling to obtain the most imformatic features\n",
        "  pooling_layer1 = MaxPool3D(pool_size=(2, 2, 2))(conv_layer2)\n",
        "\n",
        "  conv_layer3 = Conv3D(filters=32, kernel_size=(3, 3, 3), activation='relu')(pooling_layer1)\n",
        "  conv_layer4 = Conv3D(filters=64, kernel_size=(3, 3, 3), activation='relu')(conv_layer3)\n",
        "  pooling_layer2 = MaxPool3D(pool_size=(2, 2, 2))(conv_layer4)\n",
        "\n",
        "  ## perform batch normalization on the convolution outputs before feeding it to MLP architecture\n",
        "  pooling_layer2 = BatchNormalization()(pooling_layer2)\n",
        "  flatten_layer = Flatten()(pooling_layer2)\n",
        "\n",
        "  ## create an MLP architecture with dense layers : 4096 -> 512 -> 10\n",
        "  ## add dropouts to avoid overfitting / perform regularization\n",
        "  dense_layer1 = Dense(units=2048, activation='relu')(flatten_layer)\n",
        "  dense_layer1 = Dropout(0.4)(dense_layer1)\n",
        "  dense_layer2 = Dense(units=512, activation='relu')(dense_layer1)\n",
        "  dense_layer2 = Dropout(0.4)(dense_layer2)\n",
        "  output_layer = Dense(units=10, activation='softmax')(dense_layer2)\n",
        "\n",
        "  ## define the model with input layer and output layer\n",
        "  model = Model(inputs=input_layer, outputs=output_layer)\n",
        "  \n",
        "  # optimizers.SGD(lr=1e-4, momentum=0.9)\n",
        "  model.compile(loss=categorical_crossentropy, optimizer=Adadelta(lr=0.1), metrics=['acc'])\n",
        "  return model\n",
        "\n",
        "\n",
        "\n",
        "\n",
        "def m2():\n",
        "  \n",
        "  '''................................................'''\n",
        "  \n",
        "  ## input layer\n",
        "  input_layer = Input((16, 16, 16, 1)) # 1 is just dummy dimension good for nothing \n",
        "\n",
        "  ## convolutional layers\n",
        "  conv_layer1 = Conv3D(filters=8, kernel_size=(3, 3, 3), activation='relu')(input_layer)\n",
        "  conv_layer2 = Conv3D(filters=16, kernel_size=(3, 3, 3), activation='relu')(conv_layer1)\n",
        "\n",
        "  ## add max pooling to obtain the most imformatic features\n",
        "  pooling_layer1 = MaxPool3D(pool_size=(2, 2, 2))(conv_layer2)\n",
        "\n",
        "  conv_layer3 = Conv3D(filters=32, kernel_size=(3, 3, 3), activation='relu')(pooling_layer1)\n",
        "  conv_layer4 = Conv3D(filters=64, kernel_size=(3, 3, 3), activation='relu')(conv_layer3)\n",
        "  pooling_layer2 = MaxPool3D(pool_size=(2, 2, 2))(conv_layer4)\n",
        "\n",
        "  ## perform batch normalization on the convolution outputs before feeding it to MLP architecture\n",
        "  pooling_layer2 = BatchNormalization()(pooling_layer2)\n",
        "  flatten_layer = Flatten()(pooling_layer2)\n",
        "\n",
        "  ## create an MLP architecture with dense layers : 4096 -> 512 -> 10\n",
        "  ## add dropouts to avoid overfitting / perform regularization\n",
        "  dense_layer1 = Dense(units=2048, activation='relu')(flatten_layer)\n",
        "  dense_layer1 = Dropout(0.4)(dense_layer1)\n",
        "  dense_layer2 = Dense(units=512, activation='relu')(dense_layer1)\n",
        "  dense_layer2 = Dropout(0.4)(dense_layer2)\n",
        "  output_layer = Dense(units=10, activation='softmax')(dense_layer2)\n",
        "\n",
        "  ## define the model with input layer and output layer\n",
        "  model = Model(inputs=input_layer, outputs=output_layer)\n",
        "  \n",
        "  # optimizers.SGD(lr=1e-4, momentum=0.9)\n",
        "  model.compile(loss=categorical_crossentropy, optimizer=Adadelta(lr=0.1), metrics=['acc'])\n",
        "  return model\n",
        "\n",
        "model = None\n",
        "model = m2()\n",
        "model.summary()"
      ],
      "execution_count": 34,
      "outputs": [
        {
          "output_type": "stream",
          "text": [
            "_________________________________________________________________\n",
            "Layer (type)                 Output Shape              Param #   \n",
            "=================================================================\n",
            "input_7 (InputLayer)         (None, 16, 16, 16, 1)     0         \n",
            "_________________________________________________________________\n",
            "conv3d_19 (Conv3D)           (None, 14, 14, 14, 8)     224       \n",
            "_________________________________________________________________\n",
            "conv3d_20 (Conv3D)           (None, 12, 12, 12, 16)    3472      \n",
            "_________________________________________________________________\n",
            "max_pooling3d_9 (MaxPooling3 (None, 6, 6, 6, 16)       0         \n",
            "_________________________________________________________________\n",
            "conv3d_21 (Conv3D)           (None, 4, 4, 4, 32)       13856     \n",
            "_________________________________________________________________\n",
            "conv3d_22 (Conv3D)           (None, 2, 2, 2, 64)       55360     \n",
            "_________________________________________________________________\n",
            "max_pooling3d_10 (MaxPooling (None, 1, 1, 1, 64)       0         \n",
            "_________________________________________________________________\n",
            "batch_normalization_5 (Batch (None, 1, 1, 1, 64)       256       \n",
            "_________________________________________________________________\n",
            "flatten_5 (Flatten)          (None, 64)                0         \n",
            "_________________________________________________________________\n",
            "dense_13 (Dense)             (None, 2048)              133120    \n",
            "_________________________________________________________________\n",
            "dropout_9 (Dropout)          (None, 2048)              0         \n",
            "_________________________________________________________________\n",
            "dense_14 (Dense)             (None, 512)               1049088   \n",
            "_________________________________________________________________\n",
            "dropout_10 (Dropout)         (None, 512)               0         \n",
            "_________________________________________________________________\n",
            "dense_15 (Dense)             (None, 10)                5130      \n",
            "=================================================================\n",
            "Total params: 1,260,506\n",
            "Trainable params: 1,260,378\n",
            "Non-trainable params: 128\n",
            "_________________________________________________________________\n"
          ],
          "name": "stdout"
        }
      ]
    },
    {
      "metadata": {
        "id": "oVgansgGIuQM",
        "colab_type": "code",
        "colab": {
          "base_uri": "https://localhost:8080/",
          "height": 34
        },
        "outputId": "6150c776-66e3-4c8c-aa30-1489e58beca6"
      },
      "cell_type": "code",
      "source": [
        "x_train_5d.shape, y_train.shape"
      ],
      "execution_count": 35,
      "outputs": [
        {
          "output_type": "execute_result",
          "data": {
            "text/plain": [
              "((10000, 16, 16, 16, 1), (10000, 10))"
            ]
          },
          "metadata": {
            "tags": []
          },
          "execution_count": 35
        }
      ]
    },
    {
      "metadata": {
        "id": "fx38IdS7qC3y",
        "colab_type": "code",
        "outputId": "711ef89c-0071-4dc2-938d-d8b74451eac1",
        "colab": {
          "base_uri": "https://localhost:8080/",
          "height": 3597
        }
      },
      "cell_type": "code",
      "source": [
        "model.fit(x=x_train_5d, y=y_train, batch_size=128, epochs=100, validation_split=0.1)"
      ],
      "execution_count": 36,
      "outputs": [
        {
          "output_type": "stream",
          "text": [
            "WARNING:tensorflow:From /usr/local/lib/python3.6/dist-packages/tensorflow/python/ops/math_ops.py:3066: to_int32 (from tensorflow.python.ops.math_ops) is deprecated and will be removed in a future version.\n",
            "Instructions for updating:\n",
            "Use tf.cast instead.\n",
            "Train on 9000 samples, validate on 1000 samples\n",
            "Epoch 1/100\n",
            "9000/9000 [==============================] - 9s 971us/step - loss: 2.2509 - acc: 0.2099 - val_loss: 2.1808 - val_acc: 0.1910\n",
            "Epoch 2/100\n",
            "9000/9000 [==============================] - 3s 295us/step - loss: 1.8179 - acc: 0.3854 - val_loss: 1.6921 - val_acc: 0.4240\n",
            "Epoch 3/100\n",
            "9000/9000 [==============================] - 3s 296us/step - loss: 1.4220 - acc: 0.5228 - val_loss: 1.7318 - val_acc: 0.4390\n",
            "Epoch 4/100\n",
            "9000/9000 [==============================] - 3s 297us/step - loss: 1.2536 - acc: 0.5712 - val_loss: 1.9379 - val_acc: 0.3870\n",
            "Epoch 5/100\n",
            "9000/9000 [==============================] - 3s 295us/step - loss: 1.1575 - acc: 0.5949 - val_loss: 1.4590 - val_acc: 0.4910\n",
            "Epoch 6/100\n",
            "9000/9000 [==============================] - 3s 296us/step - loss: 1.0815 - acc: 0.6273 - val_loss: 1.1776 - val_acc: 0.5980\n",
            "Epoch 7/100\n",
            "9000/9000 [==============================] - 3s 297us/step - loss: 1.0309 - acc: 0.6468 - val_loss: 1.4368 - val_acc: 0.5120\n",
            "Epoch 8/100\n",
            "9000/9000 [==============================] - 3s 296us/step - loss: 0.9763 - acc: 0.6626 - val_loss: 1.1217 - val_acc: 0.6290\n",
            "Epoch 9/100\n",
            "9000/9000 [==============================] - 3s 297us/step - loss: 0.9395 - acc: 0.6760 - val_loss: 1.4962 - val_acc: 0.5260\n",
            "Epoch 10/100\n",
            "9000/9000 [==============================] - 3s 299us/step - loss: 0.8984 - acc: 0.6908 - val_loss: 1.1471 - val_acc: 0.6170\n",
            "Epoch 11/100\n",
            "9000/9000 [==============================] - 3s 305us/step - loss: 0.8581 - acc: 0.7079 - val_loss: 1.4765 - val_acc: 0.5430\n",
            "Epoch 12/100\n",
            "9000/9000 [==============================] - 3s 296us/step - loss: 0.8263 - acc: 0.7178 - val_loss: 1.2455 - val_acc: 0.6120\n",
            "Epoch 13/100\n",
            "9000/9000 [==============================] - 3s 294us/step - loss: 0.7911 - acc: 0.7269 - val_loss: 1.2581 - val_acc: 0.6040\n",
            "Epoch 14/100\n",
            "9000/9000 [==============================] - 3s 295us/step - loss: 0.7587 - acc: 0.7420 - val_loss: 1.2432 - val_acc: 0.6000\n",
            "Epoch 15/100\n",
            "9000/9000 [==============================] - 3s 297us/step - loss: 0.7317 - acc: 0.7484 - val_loss: 1.1012 - val_acc: 0.6360\n",
            "Epoch 16/100\n",
            "9000/9000 [==============================] - 3s 293us/step - loss: 0.7045 - acc: 0.7588 - val_loss: 2.0516 - val_acc: 0.4790\n",
            "Epoch 17/100\n",
            "9000/9000 [==============================] - 3s 293us/step - loss: 0.6807 - acc: 0.7688 - val_loss: 1.0857 - val_acc: 0.6530\n",
            "Epoch 18/100\n",
            "9000/9000 [==============================] - 3s 294us/step - loss: 0.6516 - acc: 0.7771 - val_loss: 1.3607 - val_acc: 0.5960\n",
            "Epoch 19/100\n",
            "9000/9000 [==============================] - 3s 296us/step - loss: 0.6276 - acc: 0.7879 - val_loss: 1.1840 - val_acc: 0.6360\n",
            "Epoch 20/100\n",
            "9000/9000 [==============================] - 3s 293us/step - loss: 0.6068 - acc: 0.7927 - val_loss: 1.2678 - val_acc: 0.6300\n",
            "Epoch 21/100\n",
            "9000/9000 [==============================] - 3s 294us/step - loss: 0.5764 - acc: 0.8048 - val_loss: 1.2422 - val_acc: 0.6300\n",
            "Epoch 22/100\n",
            "9000/9000 [==============================] - 3s 295us/step - loss: 0.5583 - acc: 0.8081 - val_loss: 1.6441 - val_acc: 0.5630\n",
            "Epoch 23/100\n",
            "9000/9000 [==============================] - 3s 293us/step - loss: 0.5361 - acc: 0.8157 - val_loss: 1.1402 - val_acc: 0.6560\n",
            "Epoch 24/100\n",
            "9000/9000 [==============================] - 3s 294us/step - loss: 0.5166 - acc: 0.8233 - val_loss: 1.6150 - val_acc: 0.5640\n",
            "Epoch 25/100\n",
            "9000/9000 [==============================] - 3s 293us/step - loss: 0.4971 - acc: 0.8320 - val_loss: 1.2917 - val_acc: 0.6360\n",
            "Epoch 26/100\n",
            "9000/9000 [==============================] - 3s 296us/step - loss: 0.4698 - acc: 0.8419 - val_loss: 1.3322 - val_acc: 0.6310\n",
            "Epoch 27/100\n",
            "9000/9000 [==============================] - 3s 295us/step - loss: 0.4537 - acc: 0.8446 - val_loss: 1.2589 - val_acc: 0.6520\n",
            "Epoch 28/100\n",
            "9000/9000 [==============================] - 3s 295us/step - loss: 0.4266 - acc: 0.8548 - val_loss: 1.4259 - val_acc: 0.6200\n",
            "Epoch 29/100\n",
            "9000/9000 [==============================] - 3s 296us/step - loss: 0.4116 - acc: 0.8618 - val_loss: 1.2803 - val_acc: 0.6660\n",
            "Epoch 30/100\n",
            "9000/9000 [==============================] - 3s 295us/step - loss: 0.3951 - acc: 0.8689 - val_loss: 1.4029 - val_acc: 0.6260\n",
            "Epoch 31/100\n",
            "9000/9000 [==============================] - 3s 294us/step - loss: 0.3693 - acc: 0.8762 - val_loss: 1.4708 - val_acc: 0.6320\n",
            "Epoch 32/100\n",
            "9000/9000 [==============================] - 3s 294us/step - loss: 0.3458 - acc: 0.8871 - val_loss: 1.3047 - val_acc: 0.6730\n",
            "Epoch 33/100\n",
            "9000/9000 [==============================] - 3s 293us/step - loss: 0.3374 - acc: 0.8846 - val_loss: 1.3602 - val_acc: 0.6480\n",
            "Epoch 34/100\n",
            "9000/9000 [==============================] - 3s 295us/step - loss: 0.3234 - acc: 0.8909 - val_loss: 1.5503 - val_acc: 0.6370\n",
            "Epoch 35/100\n",
            "9000/9000 [==============================] - 3s 292us/step - loss: 0.3044 - acc: 0.8999 - val_loss: 1.5263 - val_acc: 0.6470\n",
            "Epoch 36/100\n",
            "9000/9000 [==============================] - 3s 293us/step - loss: 0.2864 - acc: 0.9091 - val_loss: 1.4041 - val_acc: 0.6630\n",
            "Epoch 37/100\n",
            "9000/9000 [==============================] - 3s 295us/step - loss: 0.2672 - acc: 0.9164 - val_loss: 1.5476 - val_acc: 0.6530\n",
            "Epoch 38/100\n",
            "9000/9000 [==============================] - 3s 294us/step - loss: 0.2508 - acc: 0.9203 - val_loss: 1.6634 - val_acc: 0.6340\n",
            "Epoch 39/100\n",
            "9000/9000 [==============================] - 3s 295us/step - loss: 0.2418 - acc: 0.9234 - val_loss: 1.6130 - val_acc: 0.6550\n",
            "Epoch 40/100\n",
            "9000/9000 [==============================] - 3s 294us/step - loss: 0.2220 - acc: 0.9299 - val_loss: 1.6535 - val_acc: 0.6530\n",
            "Epoch 41/100\n",
            "9000/9000 [==============================] - 3s 294us/step - loss: 0.2087 - acc: 0.9349 - val_loss: 1.5671 - val_acc: 0.6640\n",
            "Epoch 42/100\n",
            "9000/9000 [==============================] - 3s 293us/step - loss: 0.2002 - acc: 0.9386 - val_loss: 1.9165 - val_acc: 0.6220\n",
            "Epoch 43/100\n",
            "9000/9000 [==============================] - 3s 294us/step - loss: 0.1785 - acc: 0.9473 - val_loss: 1.8132 - val_acc: 0.6300\n",
            "Epoch 44/100\n",
            "9000/9000 [==============================] - 3s 295us/step - loss: 0.1723 - acc: 0.9441 - val_loss: 1.7825 - val_acc: 0.6590\n",
            "Epoch 45/100\n",
            "9000/9000 [==============================] - 3s 297us/step - loss: 0.1594 - acc: 0.9526 - val_loss: 1.8299 - val_acc: 0.6470\n",
            "Epoch 46/100\n",
            "9000/9000 [==============================] - 3s 293us/step - loss: 0.1522 - acc: 0.9559 - val_loss: 2.2121 - val_acc: 0.6110\n",
            "Epoch 47/100\n",
            "9000/9000 [==============================] - 3s 293us/step - loss: 0.1420 - acc: 0.9596 - val_loss: 2.5461 - val_acc: 0.5660\n",
            "Epoch 48/100\n",
            "9000/9000 [==============================] - 3s 294us/step - loss: 0.1299 - acc: 0.9632 - val_loss: 1.8858 - val_acc: 0.6550\n",
            "Epoch 49/100\n",
            "9000/9000 [==============================] - 3s 294us/step - loss: 0.1178 - acc: 0.9657 - val_loss: 1.8896 - val_acc: 0.6500\n",
            "Epoch 50/100\n",
            "9000/9000 [==============================] - 3s 293us/step - loss: 0.1165 - acc: 0.9667 - val_loss: 2.1665 - val_acc: 0.6330\n",
            "Epoch 51/100\n",
            "9000/9000 [==============================] - 3s 295us/step - loss: 0.1096 - acc: 0.9683 - val_loss: 1.9651 - val_acc: 0.6600\n",
            "Epoch 52/100\n",
            "9000/9000 [==============================] - 3s 294us/step - loss: 0.1002 - acc: 0.9727 - val_loss: 1.9778 - val_acc: 0.6510\n",
            "Epoch 53/100\n",
            "9000/9000 [==============================] - 3s 295us/step - loss: 0.0884 - acc: 0.9763 - val_loss: 2.1111 - val_acc: 0.6480\n",
            "Epoch 54/100\n",
            "9000/9000 [==============================] - 3s 294us/step - loss: 0.0828 - acc: 0.9799 - val_loss: 2.2136 - val_acc: 0.6420\n",
            "Epoch 55/100\n",
            "9000/9000 [==============================] - 3s 294us/step - loss: 0.0799 - acc: 0.9770 - val_loss: 2.1198 - val_acc: 0.6630\n",
            "Epoch 56/100\n",
            "9000/9000 [==============================] - 3s 294us/step - loss: 0.0762 - acc: 0.9799 - val_loss: 2.0356 - val_acc: 0.6670\n",
            "Epoch 57/100\n",
            "9000/9000 [==============================] - 3s 292us/step - loss: 0.0667 - acc: 0.9828 - val_loss: 2.1709 - val_acc: 0.6450\n",
            "Epoch 58/100\n",
            "9000/9000 [==============================] - 3s 293us/step - loss: 0.0754 - acc: 0.9778 - val_loss: 2.0823 - val_acc: 0.6600\n",
            "Epoch 59/100\n",
            "9000/9000 [==============================] - 3s 292us/step - loss: 0.0639 - acc: 0.9842 - val_loss: 2.2472 - val_acc: 0.6610\n",
            "Epoch 60/100\n",
            "9000/9000 [==============================] - 3s 293us/step - loss: 0.0616 - acc: 0.9834 - val_loss: 2.1694 - val_acc: 0.6600\n",
            "Epoch 61/100\n",
            "9000/9000 [==============================] - 3s 292us/step - loss: 0.0500 - acc: 0.9898 - val_loss: 2.4932 - val_acc: 0.6310\n",
            "Epoch 62/100\n",
            "9000/9000 [==============================] - 3s 294us/step - loss: 0.0498 - acc: 0.9868 - val_loss: 2.6850 - val_acc: 0.6210\n",
            "Epoch 63/100\n",
            "9000/9000 [==============================] - 3s 293us/step - loss: 0.0517 - acc: 0.9867 - val_loss: 2.4147 - val_acc: 0.6440\n",
            "Epoch 64/100\n",
            "9000/9000 [==============================] - 3s 294us/step - loss: 0.0478 - acc: 0.9883 - val_loss: 2.9556 - val_acc: 0.5970\n",
            "Epoch 65/100\n",
            "9000/9000 [==============================] - 3s 293us/step - loss: 0.0455 - acc: 0.9897 - val_loss: 3.8594 - val_acc: 0.5320\n",
            "Epoch 66/100\n",
            "9000/9000 [==============================] - 3s 292us/step - loss: 0.0421 - acc: 0.9903 - val_loss: 2.4003 - val_acc: 0.6530\n",
            "Epoch 67/100\n",
            "9000/9000 [==============================] - 3s 294us/step - loss: 0.0384 - acc: 0.9919 - val_loss: 2.4544 - val_acc: 0.6540\n",
            "Epoch 68/100\n",
            "9000/9000 [==============================] - 3s 292us/step - loss: 0.0379 - acc: 0.9906 - val_loss: 2.7017 - val_acc: 0.6430\n",
            "Epoch 69/100\n",
            "9000/9000 [==============================] - 3s 292us/step - loss: 0.0336 - acc: 0.9923 - val_loss: 2.4742 - val_acc: 0.6600\n",
            "Epoch 70/100\n",
            "9000/9000 [==============================] - 3s 292us/step - loss: 0.0352 - acc: 0.9922 - val_loss: 2.9290 - val_acc: 0.6110\n",
            "Epoch 71/100\n",
            "9000/9000 [==============================] - 3s 293us/step - loss: 0.0301 - acc: 0.9937 - val_loss: 2.5611 - val_acc: 0.6550\n",
            "Epoch 72/100\n",
            "9000/9000 [==============================] - 3s 295us/step - loss: 0.0306 - acc: 0.9929 - val_loss: 3.4639 - val_acc: 0.5640\n",
            "Epoch 73/100\n",
            "9000/9000 [==============================] - 3s 292us/step - loss: 0.0293 - acc: 0.9930 - val_loss: 2.4922 - val_acc: 0.6580\n",
            "Epoch 74/100\n",
            "9000/9000 [==============================] - 3s 293us/step - loss: 0.0274 - acc: 0.9931 - val_loss: 2.6708 - val_acc: 0.6580\n",
            "Epoch 75/100\n",
            "9000/9000 [==============================] - 3s 293us/step - loss: 0.0268 - acc: 0.9940 - val_loss: 2.7298 - val_acc: 0.6520\n",
            "Epoch 76/100\n",
            "9000/9000 [==============================] - 3s 293us/step - loss: 0.0262 - acc: 0.9943 - val_loss: 2.6304 - val_acc: 0.6550\n",
            "Epoch 77/100\n",
            "9000/9000 [==============================] - 3s 292us/step - loss: 0.0223 - acc: 0.9956 - val_loss: 2.6967 - val_acc: 0.6540\n",
            "Epoch 78/100\n",
            "9000/9000 [==============================] - 3s 293us/step - loss: 0.0237 - acc: 0.9956 - val_loss: 2.5402 - val_acc: 0.6610\n",
            "Epoch 79/100\n",
            "9000/9000 [==============================] - 3s 293us/step - loss: 0.0236 - acc: 0.9951 - val_loss: 2.5781 - val_acc: 0.6570\n",
            "Epoch 80/100\n",
            "9000/9000 [==============================] - 3s 294us/step - loss: 0.0195 - acc: 0.9966 - val_loss: 2.7254 - val_acc: 0.6460\n",
            "Epoch 81/100\n",
            "9000/9000 [==============================] - 3s 294us/step - loss: 0.0206 - acc: 0.9968 - val_loss: 2.8526 - val_acc: 0.6560\n",
            "Epoch 82/100\n",
            "9000/9000 [==============================] - 3s 294us/step - loss: 0.0171 - acc: 0.9971 - val_loss: 2.7959 - val_acc: 0.6470\n",
            "Epoch 83/100\n",
            "9000/9000 [==============================] - 3s 293us/step - loss: 0.0180 - acc: 0.9960 - val_loss: 2.7154 - val_acc: 0.6470\n",
            "Epoch 84/100\n",
            "9000/9000 [==============================] - 3s 293us/step - loss: 0.0182 - acc: 0.9968 - val_loss: 2.9582 - val_acc: 0.6300\n",
            "Epoch 85/100\n",
            "9000/9000 [==============================] - 3s 294us/step - loss: 0.0182 - acc: 0.9961 - val_loss: 3.0046 - val_acc: 0.6410\n",
            "Epoch 86/100\n",
            "9000/9000 [==============================] - 3s 293us/step - loss: 0.0206 - acc: 0.9952 - val_loss: 2.6476 - val_acc: 0.6580\n",
            "Epoch 87/100\n",
            "9000/9000 [==============================] - 3s 293us/step - loss: 0.0168 - acc: 0.9961 - val_loss: 2.8812 - val_acc: 0.6510\n",
            "Epoch 88/100\n",
            "9000/9000 [==============================] - 3s 293us/step - loss: 0.0167 - acc: 0.9969 - val_loss: 2.7874 - val_acc: 0.6610\n",
            "Epoch 89/100\n",
            "9000/9000 [==============================] - 3s 292us/step - loss: 0.0156 - acc: 0.9971 - val_loss: 3.6252 - val_acc: 0.5560\n",
            "Epoch 90/100\n",
            "9000/9000 [==============================] - 3s 293us/step - loss: 0.0177 - acc: 0.9961 - val_loss: 2.7267 - val_acc: 0.6600\n",
            "Epoch 91/100\n",
            "9000/9000 [==============================] - 3s 295us/step - loss: 0.0149 - acc: 0.9974 - val_loss: 2.8413 - val_acc: 0.6410\n",
            "Epoch 92/100\n",
            "9000/9000 [==============================] - 3s 293us/step - loss: 0.0139 - acc: 0.9966 - val_loss: 2.8108 - val_acc: 0.6530\n",
            "Epoch 93/100\n",
            "9000/9000 [==============================] - 3s 294us/step - loss: 0.0114 - acc: 0.9987 - val_loss: 2.9800 - val_acc: 0.6360\n",
            "Epoch 94/100\n",
            "9000/9000 [==============================] - 3s 292us/step - loss: 0.0150 - acc: 0.9968 - val_loss: 2.8833 - val_acc: 0.6570\n",
            "Epoch 95/100\n",
            "9000/9000 [==============================] - 3s 294us/step - loss: 0.0120 - acc: 0.9980 - val_loss: 2.8364 - val_acc: 0.6610\n",
            "Epoch 96/100\n",
            "9000/9000 [==============================] - 3s 294us/step - loss: 0.0135 - acc: 0.9972 - val_loss: 2.8542 - val_acc: 0.6520\n",
            "Epoch 97/100\n",
            "9000/9000 [==============================] - 3s 294us/step - loss: 0.0106 - acc: 0.9979 - val_loss: 2.8969 - val_acc: 0.6460\n",
            "Epoch 98/100\n",
            "9000/9000 [==============================] - 3s 294us/step - loss: 0.0097 - acc: 0.9984 - val_loss: 2.8184 - val_acc: 0.6590\n",
            "Epoch 99/100\n",
            "9000/9000 [==============================] - 3s 294us/step - loss: 0.0120 - acc: 0.9977 - val_loss: 3.1632 - val_acc: 0.6230\n",
            "Epoch 100/100\n",
            "9000/9000 [==============================] - 3s 294us/step - loss: 0.0113 - acc: 0.9978 - val_loss: 2.9656 - val_acc: 0.6470\n"
          ],
          "name": "stdout"
        },
        {
          "output_type": "execute_result",
          "data": {
            "text/plain": [
              "<keras.callbacks.History at 0x7fd6baed6668>"
            ]
          },
          "metadata": {
            "tags": []
          },
          "execution_count": 36
        }
      ]
    },
    {
      "metadata": {
        "id": "wDVkv7Y_wIjO",
        "colab_type": "code",
        "colab": {}
      },
      "cell_type": "code",
      "source": [
        " def plot_loss_accu(history):\n",
        "    loss = history.history['loss']\n",
        "    val_loss = history.history['val_loss']\n",
        "    epochs = range(len(loss))\n",
        "    plt.plot(epochs, loss, 'g')\n",
        "    plt.plot(epochs, val_loss, 'y')\n",
        "    plt.title('Loss')\n",
        "    plt.legend(['train', 'val'], loc='upper right')\n",
        "    plt.grid(True)\n",
        "    #plt.savefig('raja_exp1_loss.jpg', dpi=300)\n",
        "    plt.show()\n",
        "    \n",
        "def plot_loss(history):\n",
        "    loss = history.history['acc']\n",
        "    val_loss = history.history['val_acc']\n",
        "    epochs = range(len(loss))\n",
        "    plt.plot(epochs, loss, 'r')\n",
        "    plt.plot(epochs, val_loss, 'b')\n",
        "    plt.title('Accuracy')\n",
        "    plt.legend(['train', 'val'], loc='lower right')\n",
        "    plt.grid(True)\n",
        "    #plt.savefig('raja_exp1_acc.jpg', dpi=300)\n",
        "    plt.show()"
      ],
      "execution_count": 0,
      "outputs": []
    },
    {
      "metadata": {
        "id": "eFjWsVH9wnFh",
        "colab_type": "code",
        "outputId": "15131c03-bcec-43db-a41b-00cbba4ffde1",
        "colab": {
          "base_uri": "https://localhost:8080/",
          "height": 560
        }
      },
      "cell_type": "code",
      "source": [
        "plot_loss_accu(model.history)\n",
        "plot_loss(model.history)\n",
        "print(\"Done!\")"
      ],
      "execution_count": 38,
      "outputs": [
        {
          "output_type": "display_data",
          "data": {
            "image/png": "[encoded data removed]",
            "text/plain": [
              "<Figure size 432x288 with 1 Axes>"
            ]
          },
          "metadata": {
            "tags": []
          }
        },
        {
          "output_type": "display_data",
          "data": {
            "image/png": "[encoded data removed]",
            "text/plain": [
              "<Figure size 432x288 with 1 Axes>"
            ]
          },
          "metadata": {
            "tags": []
          }
        },
        {
          "output_type": "stream",
          "text": [
            "Done!\n"
          ],
          "name": "stdout"
        }
      ]
    },
    {
      "metadata": {
        "id": "JqA-K9_zrywB",
        "colab_type": "code",
        "colab": {}
      },
      "cell_type": "code",
      "source": [
        "y_pred = None\n",
        "pred_labels = None\n",
        "accuracy = None"
      ],
      "execution_count": 0,
      "outputs": []
    },
    {
      "metadata": {
        "id": "6ZPdl4pVqC9Y",
        "colab_type": "code",
        "colab": {}
      },
      "cell_type": "code",
      "source": [
        "# make preds\n",
        "y_pred = model.predict(x_test_5d)\n",
        "# get labels from predictions\n",
        "pred_labels = np.array([np.argmax(pred) for pred in y_pred])"
      ],
      "execution_count": 0,
      "outputs": []
    },
    {
      "metadata": {
        "id": "fgFY5Gp2sAjY",
        "colab_type": "code",
        "colab": {}
      },
      "cell_type": "code",
      "source": [
        "#convert ground truths to column values\n",
        "y_test = np.argmax(y_test, axis=1)"
      ],
      "execution_count": 0,
      "outputs": []
    },
    {
      "metadata": {
        "id": "g-ig4Ca5qDAU",
        "colab_type": "code",
        "outputId": "5453829b-c605-42c9-b22b-7fe42510ab09",
        "colab": {
          "base_uri": "https://localhost:8080/",
          "height": 34
        }
      },
      "cell_type": "code",
      "source": [
        "# eval on test set\n",
        "accuracy = np.mean((y_test==pred_labels))\n",
        "accuracy"
      ],
      "execution_count": 44,
      "outputs": [
        {
          "output_type": "execute_result",
          "data": {
            "text/plain": [
              "0.644"
            ]
          },
          "metadata": {
            "tags": []
          },
          "execution_count": 44
        }
      ]
    },
    {
      "metadata": {
        "id": "0iot1khpqDQt",
        "colab_type": "code",
        "colab": {
          "base_uri": "https://localhost:8080/",
          "height": 625
        },
        "outputId": "a0fa6d64-8538-4913-a3e8-911301eca311"
      },
      "cell_type": "code",
      "source": [
        "def m3():\n",
        "  \n",
        "  '''playing function'''\n",
        "  \n",
        "  ## input layer\n",
        "  input_layer = Input((512, 512, 144, 1)) # 1 is just dummy dimension good for nothing \n",
        "\n",
        "  ## convolutional layers\n",
        "  conv_layer1 = Conv3D(filters=8, kernel_size=(3, 3, 3), activation='relu')(input_layer)\n",
        "  conv_layer2 = Conv3D(filters=16, kernel_size=(3, 3, 3), activation='relu')(conv_layer1)\n",
        "\n",
        "  ## add max pooling to obtain the most imformatic features\n",
        "  pooling_layer1 = MaxPool3D(pool_size=(2, 2, 2))(conv_layer2)\n",
        "\n",
        "  conv_layer3 = Conv3D(filters=32, kernel_size=(3, 3, 3), activation='relu')(pooling_layer1)\n",
        "  conv_layer4 = Conv3D(filters=64, kernel_size=(3, 3, 3), activation='relu')(conv_layer3)\n",
        "  pooling_layer2 = MaxPool3D(pool_size=(2, 2, 2))(conv_layer4)\n",
        "\n",
        "  ## perform batch normalization on the convolution outputs before feeding it to MLP architecture\n",
        "  pooling_layer2 = BatchNormalization()(pooling_layer2)\n",
        "  flatten_layer = Flatten()(pooling_layer2)\n",
        "\n",
        "  ## create an MLP architecture with dense layers : 4096 -> 512 -> 10\n",
        "  ## add dropouts to avoid overfitting / perform regularization\n",
        "  dense_layer1 = Dense(units=2048, activation='relu')(flatten_layer)\n",
        "  dense_layer1 = Dropout(0.4)(dense_layer1)\n",
        "  dense_layer2 = Dense(units=512, activation='relu')(dense_layer1)\n",
        "  dense_layer2 = Dropout(0.4)(dense_layer2)\n",
        "  output_layer = Dense(units=2, activation='softmax')(dense_layer2)\n",
        "\n",
        "  ## define the model with input layer and output layer\n",
        "  model = Model(inputs=input_layer, outputs=output_layer)\n",
        "  \n",
        "  # optimizers.SGD(lr=1e-4, momentum=0.9)\n",
        "  model.compile(loss=categorical_crossentropy, optimizer=Adadelta(lr=0.1), metrics=['acc'])\n",
        "  return model\n",
        "\n",
        "model = None\n",
        "model = m3()\n",
        "model.summary()"
      ],
      "execution_count": 46,
      "outputs": [
        {
          "output_type": "stream",
          "text": [
            "_________________________________________________________________\n",
            "Layer (type)                 Output Shape              Param #   \n",
            "=================================================================\n",
            "input_9 (InputLayer)         (None, 512, 512, 144, 1)  0         \n",
            "_________________________________________________________________\n",
            "conv3d_27 (Conv3D)           (None, 510, 510, 142, 8)  224       \n",
            "_________________________________________________________________\n",
            "conv3d_28 (Conv3D)           (None, 508, 508, 140, 16) 3472      \n",
            "_________________________________________________________________\n",
            "max_pooling3d_13 (MaxPooling (None, 254, 254, 70, 16)  0         \n",
            "_________________________________________________________________\n",
            "conv3d_29 (Conv3D)           (None, 252, 252, 68, 32)  13856     \n",
            "_________________________________________________________________\n",
            "conv3d_30 (Conv3D)           (None, 250, 250, 66, 64)  55360     \n",
            "_________________________________________________________________\n",
            "max_pooling3d_14 (MaxPooling (None, 125, 125, 33, 64)  0         \n",
            "_________________________________________________________________\n",
            "batch_normalization_7 (Batch (None, 125, 125, 33, 64)  256       \n",
            "_________________________________________________________________\n",
            "flatten_7 (Flatten)          (None, 33000000)          0         \n",
            "_________________________________________________________________\n",
            "dense_19 (Dense)             (None, 2048)              6758400204\n",
            "_________________________________________________________________\n",
            "dropout_13 (Dropout)         (None, 2048)              0         \n",
            "_________________________________________________________________\n",
            "dense_20 (Dense)             (None, 512)               1049088   \n",
            "_________________________________________________________________\n",
            "dropout_14 (Dropout)         (None, 512)               0         \n",
            "_________________________________________________________________\n",
            "dense_21 (Dense)             (None, 2)                 1026      \n",
            "=================================================================\n",
            "Total params: 67,585,125,330\n",
            "Trainable params: 67,585,125,202\n",
            "Non-trainable params: 128\n",
            "_________________________________________________________________\n"
          ],
          "name": "stdout"
        }
      ]
    },
    {
      "metadata": {
        "id": "EYm4Q03ULjX3",
        "colab_type": "code",
        "colab": {}
      },
      "cell_type": "code",
      "source": [
        ""
      ],
      "execution_count": 0,
      "outputs": []
    }
  ]
}