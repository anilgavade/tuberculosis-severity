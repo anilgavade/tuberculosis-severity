{
 "cells": [
  {
   "cell_type": "code",
   "execution_count": 1,
   "metadata": {
    "colab": {
     "base_uri": "https://localhost:8080/",
     "height": 34
    },
    "colab_type": "code",
    "id": "Ud_4saIep7ZK",
    "outputId": "030b5d99-6710-4dd2-9ecb-c23ad7f89089"
   },
   "outputs": [
    {
     "name": "stderr",
     "output_type": "stream",
     "text": [
      "Using TensorFlow backend.\n"
     ]
    }
   ],
   "source": [
    "from keras.layers import Conv3D, MaxPool3D, Flatten, Dense\n",
    "from keras.layers import Dropout, Input, BatchNormalization\n",
    "from sklearn.metrics import confusion_matrix, accuracy_score\n",
    "from keras.losses import categorical_crossentropy\n",
    "from keras.optimizers import Adadelta\n",
    "from matplotlib.pyplot import cm\n",
    "import matplotlib.pyplot as plt\n",
    "from keras.models import Model\n",
    "import numpy as np\n",
    "import keras\n",
    "import h5py"
   ]
  },
  {
   "cell_type": "markdown",
   "metadata": {
    "colab_type": "text",
    "id": "0UJeCPDtNIy8"
   },
   "source": [
    "Expand training set dimensions to match with input shape of netwwork"
   ]
  },
  {
   "cell_type": "code",
   "execution_count": 33,
   "metadata": {
    "colab": {
     "base_uri": "https://localhost:8080/",
     "height": 34
    },
    "colab_type": "code",
    "id": "hfi8Y1E_IKVy",
    "outputId": "b3c72a15-9e83-48a8-cc7c-6e9da80fff1c"
   },
   "outputs": [
    {
     "data": {
      "text/plain": [
       "((10000, 16, 16, 16, 1), (2000, 16, 16, 16, 1))"
      ]
     },
     "execution_count": 33,
     "metadata": {
      "tags": []
     },
     "output_type": "execute_result"
    }
   ],
   "source": [
    "#x_train_5d = np.expand_dims(x_train_gray, axis=4)\n",
    "#x_test_5d = np.expand_dims(x_test_gray, axis=4)\n",
    "\n",
    "\n",
    "#x_train_5d.shape, x_test_5d.shape"
   ]
  },
  {
   "cell_type": "code",
   "execution_count": 12,
   "metadata": {
    "colab": {},
    "colab_type": "code",
    "id": "EYm4Q03ULjX3",
    "scrolled": false
   },
   "outputs": [
    {
     "name": "stdout",
     "output_type": "stream",
     "text": [
      "_________________________________________________________________\n",
      "Layer (type)                 Output Shape              Param #   \n",
      "=================================================================\n",
      "input_11 (InputLayer)        (None, 512, 512, 144, 1)  0         \n",
      "_________________________________________________________________\n",
      "conv3d_50 (Conv3D)           (None, 510, 510, 142, 32) 896       \n",
      "_________________________________________________________________\n",
      "max_pooling3d_42 (MaxPooling (None, 255, 255, 71, 32)  0         \n",
      "_________________________________________________________________\n",
      "conv3d_51 (Conv3D)           (None, 253, 253, 69, 32)  27680     \n",
      "_________________________________________________________________\n",
      "max_pooling3d_43 (MaxPooling (None, 126, 126, 34, 32)  0         \n",
      "_________________________________________________________________\n",
      "conv3d_52 (Conv3D)           (None, 124, 124, 32, 32)  27680     \n",
      "_________________________________________________________________\n",
      "max_pooling3d_44 (MaxPooling (None, 62, 62, 16, 32)    0         \n",
      "_________________________________________________________________\n",
      "conv3d_53 (Conv3D)           (None, 60, 60, 14, 32)    27680     \n",
      "_________________________________________________________________\n",
      "max_pooling3d_45 (MaxPooling (None, 30, 30, 7, 32)     0         \n",
      "_________________________________________________________________\n",
      "conv3d_54 (Conv3D)           (None, 28, 28, 5, 32)     27680     \n",
      "_________________________________________________________________\n",
      "max_pooling3d_46 (MaxPooling (None, 14, 14, 2, 32)     0         \n",
      "_________________________________________________________________\n",
      "batch_normalization_9 (Batch (None, 14, 14, 2, 32)     128       \n",
      "_________________________________________________________________\n",
      "flatten_9 (Flatten)          (None, 12544)             0         \n",
      "_________________________________________________________________\n",
      "dense_35 (Dense)             (None, 2048)              25692160  \n",
      "_________________________________________________________________\n",
      "dropout_27 (Dropout)         (None, 2048)              0         \n",
      "_________________________________________________________________\n",
      "dense_36 (Dense)             (None, 1028)              2106372   \n",
      "_________________________________________________________________\n",
      "dropout_28 (Dropout)         (None, 1028)              0         \n",
      "_________________________________________________________________\n",
      "dense_37 (Dense)             (None, 512)               526848    \n",
      "_________________________________________________________________\n",
      "dropout_29 (Dropout)         (None, 512)               0         \n",
      "_________________________________________________________________\n",
      "dropout_30 (Dropout)         (None, 512)               0         \n",
      "_________________________________________________________________\n",
      "dense_39 (Dense)             (None, 2)                 1026      \n",
      "=================================================================\n",
      "Total params: 28,438,150\n",
      "Trainable params: 28,438,086\n",
      "Non-trainable params: 64\n",
      "_________________________________________________________________\n"
     ]
    }
   ],
   "source": [
    "def m_naive():\n",
    "    '''playing function'''\n",
    "    input_layer = Input((512, 512, 144, 1)) # 1 is just dummy dimension good for nothing \n",
    "    \n",
    "    conv_layer1 = Conv3D(filters=32, kernel_size=(3, 3, 3), activation='relu')(input_layer)\n",
    "    pooling_layer1 = MaxPool3D(pool_size=(2, 2, 2))(conv_layer1)\n",
    "\n",
    "        \n",
    "    conv_layer2 = Conv3D(filters=32, kernel_size=(3, 3, 3), activation='relu')(pooling_layer1)\n",
    "    pooling_layer2 = MaxPool3D(pool_size=(2, 2, 2))(conv_layer2)\n",
    "\n",
    "    conv_layer3 = Conv3D(filters=32, kernel_size=(3, 3, 3), activation='relu')(pooling_layer2)\n",
    "    pooling_layer3 = MaxPool3D(pool_size=(2, 2, 2))(conv_layer3)\n",
    "\n",
    "    \n",
    "    conv_layer4 = Conv3D(filters=32, kernel_size=(3, 3, 3), activation='relu')(pooling_layer3)\n",
    "    pooling_layer4 = MaxPool3D(pool_size=(2, 2, 2))(conv_layer4)\n",
    "\n",
    "    conv_layer5 = Conv3D(filters=32, kernel_size=(3, 3, 3), activation='relu')(pooling_layer4)\n",
    "    pooling_layer5 = MaxPool3D(pool_size=(2, 2, 2))(conv_layer5)\n",
    "    \n",
    "    pooling_layer9 = BatchNormalization()(pooling_layer5)\n",
    "    flatten_layer = Flatten()(pooling_layer9)\n",
    "\n",
    "    dense_layer1 = Dense(units=2048, activation='relu')(flatten_layer)\n",
    "    dense_layer1 = Dropout(0.4)(dense_layer1)\n",
    "    \n",
    "    \n",
    "    dense_layer2 = Dense(units=1028, activation='relu')(dense_layer1)\n",
    "    dense_layer2 = Dropout(0.4)(dense_layer2)\n",
    "    \n",
    "    dense_layer3 = Dense(units=512, activation='relu')(dense_layer2)\n",
    "    dense_layer3 = Dropout(0.4)(dense_layer3)\n",
    "\n",
    "    dense_layer4 = Dense(units=256, activation='relu')(dense_layer2)\n",
    "    dense_layer4 = Dropout(0.4)(dense_layer3)\n",
    "\n",
    "    output_layer = Dense(units=2, activation='softmax')(dense_layer4)\n",
    "\n",
    "    model = Model(inputs=input_layer, outputs=output_layer)\n",
    "\n",
    "    model.compile(loss=categorical_crossentropy, optimizer=Adadelta(lr=0.1), metrics=['acc']) # # optimizers.SGD(lr=1e-4, momentum=0.9)\n",
    "    \n",
    "    return model\n",
    "\n",
    "model = None\n",
    "model = m_naive()\n",
    "model.summary()"
   ]
  },
  {
   "cell_type": "code",
   "execution_count": null,
   "metadata": {},
   "outputs": [],
   "source": []
  }
 ],
 "metadata": {
  "accelerator": "GPU",
  "colab": {
   "collapsed_sections": [],
   "name": "3D-CNN.ipynb",
   "provenance": [],
   "version": "0.3.2"
  },
  "kernelspec": {
   "display_name": "Python 3",
   "language": "python",
   "name": "python3"
  },
  "language_info": {
   "codemirror_mode": {
    "name": "ipython",
    "version": 3
   },
   "file_extension": ".py",
   "mimetype": "text/x-python",
   "name": "python",
   "nbconvert_exporter": "python",
   "pygments_lexer": "ipython3",
   "version": "3.6.6"
  }
 },
 "nbformat": 4,
 "nbformat_minor": 1
}
